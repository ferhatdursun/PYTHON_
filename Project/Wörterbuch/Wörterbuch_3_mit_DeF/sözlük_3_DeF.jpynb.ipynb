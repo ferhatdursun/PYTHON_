{
  "cells": [
    {
      "cell_type": "code",
      "execution_count": 2,
      "metadata": {
        "id": "prgZSAGTJBQv"
      },
      "outputs": [
        {
          "name": "stdout",
          "output_type": "stream",
          "text": [
            "[1]. Kelime Arama\n",
            "[2]. Kelime Silme\n",
            "[3]. Listeleme\n",
            "[4]. Kelime Ekleme\n",
            "[5]. Cikis\n",
            "Father\n",
            "Cikis yapiliyor.\n"
          ]
        }
      ],
      "source": [
        "#Sözlük\n",
        "\n",
        "TrDE ={\n",
        "    \"Monate\":\n",
        "         {\"Ocak\":\"Januar\", \"Subat\":\"Februar\", \"Mart\":\"März\", \"Nisan\":\"Äpril\", \"Mayis\":\"Mai\", \"Haziran\":\"Juni\", \"Temmuz\":\"Juli\", \"Agustos\":\"August\",\"Eylül\":\"September\",\"Ekim\":\"Oktober\",\"Kasim\":\"November\",\"Aralik\":\"Dezember\",\n",
        "          \"Januar\":\"Ocak\", \"Februar\":\"Subat\", \"März\":\"Mart\", \"Äpril\":\"Nisan\", \"Mai\":\"Mayis\", \"Juni\":\"Haziran\", \"Juli\":\"Temmuz\", \"August\":\"Agustos\", \"September\":\"Eylül\", \"October\":\"Ekim\", \"November\":\"Kasim\", \"Dezember\":\"Aralik\"},\n",
        "    \"Zahlen\":\n",
        "         {\"Bir\":\"Eins\", \"Iki\":\"Zwei\", \"Üc\":\"Drei\", \"Dört\":\"Vier\", \"Bes\":\"Fünf\", \"Alti\":\"Sechs\", \"Yedi\":\"sieben\", \"Sekiz\":\"Acht\", \"Dokuz\":\"Nine\", \n",
        "          \"Eins\":\"Bir\", \"Zwei\":\"Iki\", \"Drei\":\"Üc\", \"Vier\":\"Dört\", \"Fünf\":\"Bes\", \"Sechs\":\"Alti\", \"Sieben\":\"Yedi\", \"Acht\":\"Sekiz\", \"Neun\":\"Dokuz\"},\n",
        "    \"Tiere\":\n",
        "         {\"Kurt\":\"Wolf\", \"Aslan\":\"Löwe\", \"Sirtlan\":\"Hyäne\", \"Cakal\":\"Schakal\",\"Köpek\":\"Hund\",\n",
        "          \"Wolf\":\"Kurt\", \"Löwe\":\"Aslan\", \"Hyäne\":\"Sirtlan\", \"Schakal\":\"Cakal\", \"Hund\":\"Köpek\"},\n",
        "    \"Jahresjeiten\":\n",
        "         {\"Ilkbahar\":\"Frühling\", \"Yaz\":\"Sommer\", \"Sonbahar\":\"Herbst\", \"Winter\":\"Kis\", \n",
        "          \"Frühling\":\"ilkbahar\", \"Sommer\":\"Yaz\", \"Herbst\":\"Sonbahar\", \"Winter\":\"Kis\"},\n",
        "    \"Family\":\n",
        "         {\"Baba\":\"Father\", \"Anne\":\"Mutter\", \"Erkek Kardes\":\"Bruder\", \"Kiz Kardes\":\"Schwester\",\n",
        "          \"Father\":\"Baba\", \"Mutter\":\"Anne\", \"Bruder\":\"Erkek Kardes\", \"Schwester\":\"Kiz Kardes\"},\n",
        "}\n",
        "\n",
        "\n",
        "\n",
        "def menu():\n",
        "     print(\"[1]. Kelime Arama\")\n",
        "     print(\"[2]. Kelime Silme\")\n",
        "     print(\"[3]. Listeleme\")\n",
        "     print(\"[4]. Kelime Ekleme\")\n",
        "     print(\"[5]. Cikis\")\n",
        "\n",
        "     \n",
        "     while True:\n",
        "          giris = input(\"Lütfen menüden yapmak istediginiz islemin numarasini buraya yaziniz!:\\n 1. Kelime arama\\n2. Silme\\n3.Listeleme\\n4.Ekleme\\n5.Cikis\\n\")\n",
        "\n",
        "          if giris == \"1\":\n",
        "               arama = input(\"Lütfen hangi ana baslikta arama yapmak istediginizi giriniz: \").title().strip()\n",
        "               kelime= input(\"Lütfen arama yapmak istediginiz ana baslik altinda ki kelimeyi giriniz:\").title().strip()\n",
        "\n",
        "               print(TrDE[arama].get(kelime, \"yok\"))\n",
        "          if giris == \"2\":\n",
        "               silme = input(\"Lütfen hangi ana baslikta arama yapmak istediginizi giriniz \").title().strip()\n",
        "               kelime = input(\"Lütfen silmek istediginiz kelimeyi giriniz: \").title().strip()\n",
        "\n",
        "               a = (TrDE[silme].pop(kelime, \"Bu kelime sözlükte bulunmamaktadir.\"))\n",
        "               print(\"Silmek istediginiz kelime:\"+ kelime + \",\" + \"\\n\" + \"Tercümesi:\" + a)\n",
        "               \n",
        "          if giris == \"3\":\n",
        "               listele = input(\"Lütfen listelemek istediginiz ana basliklardan birini seciniz: Monate, Zahlen, Tiere, Jahresjeiten, Family:\").title().strip()\n",
        "          \n",
        "               print(TrDE[listele])\n",
        "\n",
        "          if giris == \"4\":\n",
        "               ekleme = input(\"Lütfen eklemek istediginiz kelimenin basligini giriniz:\").title().strip()\n",
        "               kelime1 = input(\"Lütfen eklemek istediginiz birinci kelimeyi giriniz:\").title().strip()\n",
        "               kelime2 = input(\"Lütfen eklemek istediginiz ikinci kelimeyi giriniz: \").title().strip()\n",
        "\n",
        "               (TrDE[ekleme].update({kelime1 : kelime2}))\n",
        "               print(TrDE[ekleme])\n",
        "          \n",
        "          else:\n",
        "               print(\"Cikis yapiliyor.\")\n",
        "\n",
        "          break\n",
        "\n",
        "menu()\n",
        "\n",
        "\n"
      ]
    },
    {
      "cell_type": "code",
      "execution_count": null,
      "metadata": {},
      "outputs": [],
      "source": []
    }
  ],
  "metadata": {
    "colab": {
      "collapsed_sections": [],
      "name": "Untitled38.ipynb",
      "provenance": []
    },
    "kernelspec": {
      "display_name": "Python 3",
      "name": "python3"
    },
    "language_info": {
      "codemirror_mode": {
        "name": "ipython",
        "version": 3
      },
      "file_extension": ".py",
      "mimetype": "text/x-python",
      "name": "python",
      "nbconvert_exporter": "python",
      "pygments_lexer": "ipython3",
      "version": "3.10.2"
    }
  },
  "nbformat": 4,
  "nbformat_minor": 0
}
