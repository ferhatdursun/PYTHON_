{
 "cells": [
  {
   "cell_type": "code",
   "execution_count": 2,
   "metadata": {},
   "outputs": [
    {
     "name": "stdout",
     "output_type": "stream",
     "text": [
      "3\n"
     ]
    }
   ],
   "source": [
    "a,b,c = int(input(\"Geben Sie bitte eine Zahl ein!\")), int(input(\"Geben Sie bitte eine zweite Zahl ein!\")), input(\"Geben Sie bitte ein Operation ein!\")\n",
    "\n",
    "if c == \"+\":\n",
    "    print(a + b)\n",
    "\n",
    "elif c == \"-\":\n",
    "    print(a-b)\n",
    "\n",
    "elif c == \"*\":\n",
    "    print(a*b)\n",
    "\n",
    "elif c == \"/\":\n",
    "    print(a/b)\n",
    "\n",
    "else:\n",
    "    print(\"Kontrollieren Sie bitte die eingegebene Daten, ob alles Zahl sind!\")\n",
    "\n",
    "\n",
    "\n",
    "\n",
    "\n"
   ]
  }
 ],
 "metadata": {
  "interpreter": {
   "hash": "aee8b7b246df8f9039afb4144a1f6fd8d2ca17a180786b69acc140d282b71a49"
  },
  "kernelspec": {
   "display_name": "Python 3.10.2 64-bit",
   "language": "python",
   "name": "python3"
  },
  "language_info": {
   "codemirror_mode": {
    "name": "ipython",
    "version": 3
   },
   "file_extension": ".py",
   "mimetype": "text/x-python",
   "name": "python",
   "nbconvert_exporter": "python",
   "pygments_lexer": "ipython3",
   "version": "3.10.2"
  },
  "orig_nbformat": 4
 },
 "nbformat": 4,
 "nbformat_minor": 2
}
