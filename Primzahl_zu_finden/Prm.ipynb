{
 "cells": [
  {
   "cell_type": "code",
   "execution_count": 7,
   "metadata": {},
   "outputs": [
    {
     "name": "stdout",
     "output_type": "stream",
     "text": [
      "29 bir asal sayidir.\n"
     ]
    }
   ],
   "source": [
    "import math\n",
    "n = int(input(\"Lütfen bir sayi giriniz!\"))\n",
    "flag = True\n",
    "sqr = int(math.sqrt(n))\n",
    "\n",
    "if n<2:\n",
    "    flag = False\n",
    "\n",
    "for i in range(2,sqr+1):\n",
    "    if n%i==0:\n",
    "        flag = False\n",
    "\n",
    "if flag == False:\n",
    "    print(n,\"bir asal sayi degildir.\")\n",
    "\n",
    "else:\n",
    "    print(n,\"bir asal sayidir.\") #ferhat"
   ]
  }
 ],
 "metadata": {
  "interpreter": {
   "hash": "aee8b7b246df8f9039afb4144a1f6fd8d2ca17a180786b69acc140d282b71a49"
  },
  "kernelspec": {
   "display_name": "Python 3.10.2 64-bit",
   "language": "python",
   "name": "python3"
  },
  "language_info": {
   "codemirror_mode": {
    "name": "ipython",
    "version": 3
   },
   "file_extension": ".py",
   "mimetype": "text/x-python",
   "name": "python",
   "nbconvert_exporter": "python",
   "pygments_lexer": "ipython3",
   "version": "3.10.2"
  },
  "orig_nbformat": 4
 },
 "nbformat": 4,
 "nbformat_minor": 2
}
