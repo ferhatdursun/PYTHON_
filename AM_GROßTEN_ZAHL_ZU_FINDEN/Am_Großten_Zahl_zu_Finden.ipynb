{
 "cells": [
  {
   "cell_type": "code",
   "execution_count": 1,
   "metadata": {},
   "outputs": [
    {
     "data": {
      "text/plain": [
       "999"
      ]
     },
     "execution_count": 1,
     "metadata": {},
     "output_type": "execute_result"
    }
   ],
   "source": [
    "# mit def() am_großten_Zahl zu finden.\n",
    "\n",
    "def x(L):\n",
    "\n",
    "    AmGroßtenZahl = L[0]\n",
    "\n",
    "    for i in L:\n",
    "        if i>AmGroßtenZahl:\n",
    "            AmGroßtenZahl = i\n",
    "    return AmGroßtenZahl\n",
    "\n",
    "L = [12,23,34,32,11,14,15,999]\n",
    "x(L)\n"
   ]
  }
 ],
 "metadata": {
  "interpreter": {
   "hash": "aee8b7b246df8f9039afb4144a1f6fd8d2ca17a180786b69acc140d282b71a49"
  },
  "kernelspec": {
   "display_name": "Python 3.10.2 64-bit",
   "language": "python",
   "name": "python3"
  },
  "language_info": {
   "codemirror_mode": {
    "name": "ipython",
    "version": 3
   },
   "file_extension": ".py",
   "mimetype": "text/x-python",
   "name": "python",
   "nbconvert_exporter": "python",
   "pygments_lexer": "ipython3",
   "version": "3.10.2"
  },
  "orig_nbformat": 4
 },
 "nbformat": 4,
 "nbformat_minor": 2
}
