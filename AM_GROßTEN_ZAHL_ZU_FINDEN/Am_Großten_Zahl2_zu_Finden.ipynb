{
 "cells": [
  {
   "cell_type": "code",
   "execution_count": 2,
   "metadata": {},
   "outputs": [
    {
     "name": "stdout",
     "output_type": "stream",
     "text": [
      "Am Großten Zahl ist :  8\n"
     ]
    }
   ],
   "source": [
    "nu = int(input(\"Wie viel Zahl möchten Sie eingeben?\"))\n",
    "\n",
    "List = []\n",
    "\n",
    "for i in range(1, nu+1):\n",
    "    zahl = int(input(f'{i}. Zahl geben Sie bitte ein!'))\n",
    "    List.append(zahl)\n",
    "\n",
    "max = List[0]\n",
    "\n",
    "for k in List:\n",
    "    if k > max:\n",
    "        max = k\n",
    "print(\"Am Großten Zahl ist : \", max)"
   ]
  }
 ],
 "metadata": {
  "interpreter": {
   "hash": "aee8b7b246df8f9039afb4144a1f6fd8d2ca17a180786b69acc140d282b71a49"
  },
  "kernelspec": {
   "display_name": "Python 3.10.2 64-bit",
   "language": "python",
   "name": "python3"
  },
  "language_info": {
   "codemirror_mode": {
    "name": "ipython",
    "version": 3
   },
   "file_extension": ".py",
   "mimetype": "text/x-python",
   "name": "python",
   "nbconvert_exporter": "python",
   "pygments_lexer": "ipython3",
   "version": "3.10.2"
  },
  "orig_nbformat": 4
 },
 "nbformat": 4,
 "nbformat_minor": 2
}
