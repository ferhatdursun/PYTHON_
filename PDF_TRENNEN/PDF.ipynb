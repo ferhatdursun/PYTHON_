{
 "cells": [
  {
   "cell_type": "code",
   "execution_count": 3,
   "metadata": {},
   "outputs": [],
   "source": [
    "##PDF Dosyasını split etme...\n",
    "from PyPDF4 import PdfFileReader, PdfFileWriter\n",
    "\n",
    "pdf = PdfFileReader(\"/Users/ferhatdursun/Desktop/EBAY/Dursun__Ferhat_Ausweiss.pdf\") # Mevcut olan PDF'i VS Code ile actiktan sonra bu PDF'in yolunu buraya kopyalayin.\n",
    "pdf_writer = PdfFileWriter()\n",
    "pdf.numPages \n",
    "\n",
    "pages = [2] # Buraya istenilen sayfa numarasi/numaralari girilmelidir.\n",
    "for p in pages:\n",
    "    pdf_writer.addPage(pdf.getPage(p-1))\n",
    "\n",
    "with open(\"FERHAT_AUSWEISS_2.pdf\", 'wb') as f: # Ayirmak istenilen PDF saylarindan olusan dosyaya buradan isim veriniz!\n",
    "    pdf_writer.write(f)"
   ]
  }
 ],
 "metadata": {
  "interpreter": {
   "hash": "aee8b7b246df8f9039afb4144a1f6fd8d2ca17a180786b69acc140d282b71a49"
  },
  "kernelspec": {
   "display_name": "Python 3.10.2 64-bit",
   "language": "python",
   "name": "python3"
  },
  "language_info": {
   "codemirror_mode": {
    "name": "ipython",
    "version": 3
   },
   "file_extension": ".py",
   "mimetype": "text/x-python",
   "name": "python",
   "nbconvert_exporter": "python",
   "pygments_lexer": "ipython3",
   "version": "3.10.2"
  },
  "orig_nbformat": 4
 },
 "nbformat": 4,
 "nbformat_minor": 2
}
