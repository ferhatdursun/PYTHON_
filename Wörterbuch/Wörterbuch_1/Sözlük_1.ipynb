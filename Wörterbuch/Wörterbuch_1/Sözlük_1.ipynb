{
  "cells": [
    {
      "cell_type": "code",
      "execution_count": 5,
      "metadata": {
        "colab": {
          "base_uri": "https://localhost:8080/"
        },
        "id": "VjPixPt6SkWV",
        "outputId": "923ef958-8e83-415e-a0a2-9c234452d1e9"
      },
      "outputs": [
        {
          "name": "stdout",
          "output_type": "stream",
          "text": [
            "Termücesi: Father\n"
          ]
        }
      ],
      "source": [
        "#Sözlük\n",
        "\n",
        "TrDE ={\n",
        "    \"Monate\":\n",
        "         {\"Ocak\":\"Januar\", \"Subat\":\"Februar\", \"Mart\":\"März\", \"Nisan\":\"Äpril\", \"Mayis\":\"Mai\", \"Haziran\":\"Juni\", \"Temmuz\":\"Juli\", \"Agustos\":\"August\",\"Eylül\":\"September\",\"Ekim\":\"Oktober\",\"Kasim\":\"November\",\"Aralik\":\"Dezember\",\n",
        "          \"Januar\":\"Ocak\", \"Februar\":\"Subat\", \"März\":\"Mart\", \"Äpril\":\"Nisan\", \"Mai\":\"Mayis\", \"Juni\":\"Haziran\", \"Juli\":\"Temmuz\", \"August\":\"Agustos\", \"September\":\"Eylül\", \"October\":\"Ekim\", \"November\":\"Kasim\", \"Dezember\":\"Aralik\"},\n",
        "    \"Zahlen\":\n",
        "         {\"Bir\":\"Eins\", \"Iki\":\"Zwei\", \"Üc\":\"Drei\", \"Dört\":\"Vier\", \"Bes\":\"Fünf\", \"Alti\":\"Sechs\", \"Yedi\":\"sieben\", \"Sekiz\":\"Acht\", \"Dokuz\":\"Nine\", \n",
        "          \"Eins\":\"Bir\", \"Zwei\":\"Iki\", \"Drei\":\"Üc\", \"Vier\":\"Dört\", \"Fünf\":\"Bes\", \"Sechs\":\"Alti\", \"Sieben\":\"Yedi\", \"Acht\":\"Sekiz\", \"Neun\":\"Dokuz\"},\n",
        "    \"Tiere\":\n",
        "         {\"Kurt\":\"Wolf\", \"Aslan\":\"Löwe\", \"Sirtlan\":\"Hyäne\", \"Cakal\":\"Schakal\",\"Köpek\":\"Hund\",\n",
        "          \"Wolf\":\"Kurt\", \"Löwe\":\"Aslan\", \"Hyäne\":\"Sirtlan\", \"Schakal\":\"Cakal\", \"Hund\":\"Köpek\"},\n",
        "    \"Jahresjeiten\":\n",
        "         {\"Ilkbahar\":\"Frühling\", \"Yaz\":\"Sommer\", \"Sonbahar\":\"Herbst\", \"Winter\":\"Kis\", \n",
        "          \"Frühling\":\"ilkbahar\", \"Sommer\":\"Yaz\", \"Herbst\":\"Sonbahar\", \"Winter\":\"Kis\"},\n",
        "    \"Family\":\n",
        "         {\"Baba\":\"Father\", \"Anne\":\"Mutter\", \"Erkek Kardes\":\"Bruder\", \"Kiz Kardes\":\"Schwester\",\n",
        "          \"Father\":\"Baba\", \"Mutter\":\"Anne\", \"Bruder\":\"Erkek Kardes\", \"Schwester\":\"Kiz Kardes\"},\n",
        "}\n",
        "\n",
        "DE = input(\"Lütfen aramak istediginiz kelimeyi giriniz:\").capitalize().strip()\n",
        "Monat = TrDE[\"Monate\"].get(DE, \"Yok\")\n",
        "Zahl = TrDE[\"Zahlen\"].get(DE, \"Yok\")\n",
        "Tier = TrDE[\"Tiere\"].get(DE, \"Yok\")\n",
        "Jahr = TrDE[\"Jahresjeiten\"].get(DE, \"Yok\")\n",
        "Aile = TrDE[\"Family\"].get(DE, \"Yok\")\n",
        "\n",
        "if Monat != \"Yok\":\n",
        "  print(\"Termücesi:\", Monat)\n",
        "elif Zahl != \"Yok\":\n",
        "  print(\"Termücesi:\", Zahl)\n",
        "elif Tier != \"Yok\":\n",
        "  print(\"Termücesi:\", Tier)\n",
        "elif Jahr != \"Yok\":\n",
        "  print(\"Termücesi:\", Jahr)\n",
        "elif Aile != \"Yok\":\n",
        "  print(\"Termücesi:\", Aile)\n",
        "else:\n",
        "  print( \"Aradiginiz Türkce kelime, sözlükte bulunmamaktadir.\")\n",
        "\n",
        "\n",
        "\n",
        "\n",
        "\n",
        "\n",
        "\n",
        "\n",
        "\n"
      ]
    }
  ],
  "metadata": {
    "colab": {
      "collapsed_sections": [],
      "name": "Sözlük.ipynb",
      "provenance": []
    },
    "kernelspec": {
      "display_name": "Python 3",
      "name": "python3"
    },
    "language_info": {
      "codemirror_mode": {
        "name": "ipython",
        "version": 3
      },
      "file_extension": ".py",
      "mimetype": "text/x-python",
      "name": "python",
      "nbconvert_exporter": "python",
      "pygments_lexer": "ipython3",
      "version": "3.10.2"
    }
  },
  "nbformat": 4,
  "nbformat_minor": 0
}
